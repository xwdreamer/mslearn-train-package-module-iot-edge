{
 "cells": [
  {
   "cell_type": "markdown",
   "metadata": {},
   "source": [
    "Copyright (c) Microsoft Corporation. All rights reserved.\n",
    "\n",
    "Licensed under the MIT License."
   ]
  },
  {
   "cell_type": "markdown",
   "metadata": {},
   "source": [
    "# Select the Python 3.6 kernel \n",
    "\n",
    "Note: If you get any issues with Azure AML SDK, please take a look at the [troubleshooting page](https://docs.microsoft.com/en-us/python/api/overview/azure/ml/install?preserve-view=true&view=azure-ml-py#troubleshooting)."
   ]
  },
  {
   "cell_type": "markdown",
   "metadata": {},
   "source": [
    "# Install the Azure Machine Learning library"
   ]
  },
  {
   "cell_type": "markdown",
   "metadata": {},
   "source": [
    "# 加载workspace"
   ]
  },
  {
   "cell_type": "code",
   "execution_count": 1,
   "metadata": {},
   "outputs": [
    {
     "name": "stdout",
     "output_type": "stream",
     "text": [
      "Library configuration succeeded\n"
     ]
    }
   ],
   "source": [
    "# 加载workspace\n",
    "\n",
    "\n",
    "from azureml.core import Workspace\n",
    "\n",
    "subscription_id = 'cc80fb14-49de-4506-997b-89f34562676e'\n",
    "resource_group  = 'shoufei'\n",
    "workspace_name  = 'xw-ml-ws'\n",
    "\n",
    "try:\n",
    "    ws = Workspace(subscription_id = subscription_id, resource_group = resource_group, workspace_name = workspace_name)\n",
    "    ws.write_config()\n",
    "    print('Library configuration succeeded')\n",
    "except:\n",
    "    print('Workspace not found')"
   ]
  },
  {
   "cell_type": "markdown",
   "metadata": {},
   "source": [
    "# 加载模型"
   ]
  },
  {
   "cell_type": "code",
   "execution_count": 19,
   "metadata": {
    "tags": []
   },
   "outputs": [
    {
     "name": "stdout",
     "output_type": "stream",
     "text": [
      "Import the model from model-arm64.pkl\n",
      "New sample: [[33.66995566, 2.44341267, 21.39450979, 26]]\n",
      "Predicted class is [1]\n",
      "1\n"
     ]
    }
   ],
   "source": [
    "import pickle\n",
    "\n",
    "# Test the model by importing it and providing a sample data point\n",
    "print(\"Import the model from model-arm64.pkl\")\n",
    "f2 = open('model.pkl', 'rb')\n",
    "clf2 = pickle.load(f2)\n",
    "\n",
    "# Normal (not an anomaly)，预测值返回0\n",
    "#X_new = [[24.90294136, 1.44463889, 20.89537849, 24]]\n",
    "#X_new = [[33.40859853, 2.413637808, 20.89162813, 26]]\n",
    "#X_new = [[34.42109181, 2.528985143, 21.23903786, 25]]\n",
    "\n",
    "# Anomaly,预测值返回1\n",
    "X_new = [[33.66995566, 2.44341267, 21.39450979, 26]]\n",
    "#X_new = [[105.5457931, 10.63179922, 20.62029994, 26]]\n",
    "\n",
    "print ('New sample: {}'.format(X_new))\n",
    "\n",
    "pred = clf2.predict(X_new)\n",
    "print('Predicted class is {}'.format(pred))\n",
    "print(pred[0])\n"
   ]
  },
  {
   "cell_type": "markdown",
   "metadata": {},
   "source": [
    "# Register Model to cloud"
   ]
  },
  {
   "cell_type": "code",
   "execution_count": 20,
   "metadata": {
    "tags": []
   },
   "outputs": [
    {
     "name": "stdout",
     "output_type": "stream",
     "text": [
      "Registering model model-demo1.pkl\n"
     ]
    }
   ],
   "source": [
    "#Register Model to cloud\n",
    "# 注册完毕以后，在云端https://ml.azure.com/可以看到这个model-arm64.pkl\n",
    "\n",
    "from azureml.core.model import Model\n",
    "\n",
    "model = Model.register(model_path = \"model.pkl\",\n",
    "                       model_name = \"model-demo1.pkl\",\n",
    "                       tags = {'area': \"anomaly\", 'type': \"classification\"},\n",
    "                       description = \"Sample anomaly detection model for IOT tutorial\",\n",
    "                       workspace = ws)"
   ]
  },
  {
   "cell_type": "markdown",
   "metadata": {},
   "source": [
    "# Create docker Image"
   ]
  },
  {
   "cell_type": "code",
   "execution_count": 21,
   "metadata": {},
   "outputs": [],
   "source": [
    "# Create docker Image This specifies the dependencies to include in the environment\n",
    "# 此处把azureml-sdk修改为azureml-core\n",
    "from azureml.core.conda_dependencies import CondaDependencies \n",
    "\n",
    "myenv = CondaDependencies.create(\n",
    "    conda_packages=['pandas', 'scikit-learn', 'numpy', 'pip=20.1.1'],\n",
    "    pip_packages=['azureml-core'])\n",
    "\n",
    "with open(\"myenv.yml\",\"w\") as f:\n",
    "    f.write(myenv.serialize_to_string())"
   ]
  },
  {
   "cell_type": "code",
   "execution_count": 22,
   "metadata": {
    "tags": []
   },
   "outputs": [
    {
     "name": "stderr",
     "output_type": "stream",
     "text": [
      "/tmp/ipykernel_1640/2357192945.py:3: DeprecationWarning: ContainerImage class has been deprecated and will be removed in a future release. Please migrate to using Environments. https://docs.microsoft.com/en-us/azure/machine-learning/how-to-use-environments\n",
      "  image_config = ContainerImage.image_configuration(runtime= \"python\",\n",
      "/tmp/ipykernel_1640/2357192945.py:10: DeprecationWarning: Image class has been deprecated and will be removed in a future release. Please migrate to using Environments. https://docs.microsoft.com/en-us/azure/machine-learning/how-to-use-environments\n",
      "  image = Image.create(name = \"tempanomalydetection\",\n"
     ]
    },
    {
     "name": "stdout",
     "output_type": "stream",
     "text": [
      "Creating image\n"
     ]
    }
   ],
   "source": [
    "from azureml.core.image import Image, ContainerImage\n",
    "\n",
    "image_config = ContainerImage.image_configuration(runtime= \"python\",\n",
    "                                 execution_script=\"iot_score.py\",\n",
    "                                 conda_file=\"myenv.yml\",\n",
    "                                 tags = {'area': \"iot\", 'type': \"classification\"},\n",
    "                                 description = \"IOT Edge anomaly detection demo\")\n",
    "\n",
    "\n",
    "image = Image.create(name = \"tempanomalydetection\",\n",
    "                     # this is the model object \n",
    "                     models = [model],\n",
    "                     image_config = image_config, \n",
    "                     workspace = ws)"
   ]
  },
  {
   "cell_type": "code",
   "execution_count": 23,
   "metadata": {
    "tags": []
   },
   "outputs": [
    {
     "name": "stdout",
     "output_type": "stream",
     "text": [
      "Running...................................................\n",
      "Succeeded\n",
      "Image creation operation finished for image tempanomalydetection:3, operation \"Succeeded\"\n"
     ]
    }
   ],
   "source": [
    "image.wait_for_creation(show_output = True)"
   ]
  },
  {
   "cell_type": "markdown",
   "metadata": {},
   "source": [
    "# 部署模型"
   ]
  },
  {
   "cell_type": "markdown",
   "metadata": {},
   "source": [
    "直接docker run模型，映射5001端口\n",
    "然后使用postman调用\n",
    "http://127.0.0.1:5001/score \n",
    "body当中传递json数据\n",
    "```\n",
    "{\n",
    "    \"machine\":{\n",
    "        \"temperature\":31.16469009,\n",
    "        \"pressure\":2.158002669\n",
    "    },\n",
    "    \"ambient\":{\n",
    "        \"temperature\":21.17794693,\n",
    "        \"humidity\":25\n",
    "    },\n",
    "    \"timeCreated\":\"2017-10-27T18:14:02.4911177Z\"\n",
    "}\n",
    "```"
   ]
  }
 ],
 "metadata": {
  "authors": [
   {
    "name": "raymondl"
   }
  ],
  "interpreter": {
   "hash": "d4d1e4263499bec80672ea0156c357c1ee493ec2b1c70f0acce89fc37c4a6abe"
  },
  "kernelspec": {
   "display_name": "Python 3.9.7 ('base')",
   "language": "python",
   "name": "python3"
  },
  "language_info": {
   "codemirror_mode": {
    "name": "ipython",
    "version": 3
   },
   "file_extension": ".py",
   "mimetype": "text/x-python",
   "name": "python",
   "nbconvert_exporter": "python",
   "pygments_lexer": "ipython3",
   "version": "3.9.7"
  }
 },
 "nbformat": 4,
 "nbformat_minor": 4
}
